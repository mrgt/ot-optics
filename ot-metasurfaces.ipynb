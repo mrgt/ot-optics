{
 "cells": [
  {
   "cell_type": "code",
   "execution_count": 19,
   "metadata": {},
   "outputs": [],
   "source": [
    "from geometry import *\n",
    "import numpy as np\n",
    "import pypower\n",
    "import scipy.optimize as opt\n",
    "import matplotlib.pyplot as plt\n",
    "%matplotlib inline\n",
    "\n",
    "def make_power(X,w):\n",
    "    A = np.array([[ 0, 0, 1],\n",
    "                  [ 0, 0,-1],\n",
    "                  [ 0, 1, 0],\n",
    "                  [ 0,-1, 0],\n",
    "                  [ 1, 0, 0],\n",
    "                  [-1, 0, 0]])\n",
    "    b = np.array([100,0,1,1,1,1])\n",
    "    return pypower.power_diagram(X,w,A,b)\n",
    "\n",
    "# X=(x,y,z) is above the graph of (x,y) -> sqrt(|(x,y)-p|^2 + beta**2) + b_i\n",
    "# <=> z >= sqrt((x-px)^2 + (y-py)^2 + beta**2) + b_i\n",
    "# <=> (z-b_i)^2 >= (x-px)^2 + (y-py)^2 + beta**2 (AND z>=b_i...)\n",
    "# <=> <Q(X-R)|(X-R)> - beta**2 >= 0\n",
    "# with Q = diag(-1,-1,1), R = (px,py,bi)\n",
    "# <=> <QX|X> + 2<QR|X> + <QR|R> - beta**2 >= 0\n",
    "\n",
    "def make_hyperboloid(p, b, beta):\n",
    "    Q = np.diag([-1,-1,1])\n",
    "    R = np.array([p[0],p[1],b])\n",
    "    b = 2*Q@R,\n",
    "    c = np.dot(Q@R,R) - beta**2\n",
    "    return Quadric(Q,b,c)\n",
    "\n",
    "\n",
    "def make_laguerre(Y, psi, beta, N=20):\n",
    "    assert(all(psi > 0))\n",
    "    N = len(Y)\n",
    "    X = np.zeros((N,3))\n",
    "    X[:,0:2] = -Y\n",
    "    X[:,2] = psi\n",
    "    w = 2*(Y[:,0]**2 + Y[:,1]**2)\n",
    "\n",
    "    cells = make_power(X,w)\n",
    "    curves = []\n",
    "    for i in range(N):\n",
    "        quad = make_hyperboloid(Y[i], psi[i], beta)\n",
    "        c = intersect_cell_with_quadric(X,cells[i],quad,20)\n",
    "        curves.append(c)\n",
    "    return curves\n",
    "\n",
    "def plot_laguerre(allcurves):\n",
    "    area = 0\n",
    "    for curves in allcurves:\n",
    "        for j,curvesj in curves.items():\n",
    "            for crv in curvesj:\n",
    "                crv = np.array(crv)\n",
    "                for i in range(crv.shape[0]-1):\n",
    "                    a = crv[i,0:2]\n",
    "                    b = crv[i+1,0:2]\n",
    "                    area += np.linalg.det(np.array([a,b]))/2\n",
    "                plt.plot(crv[:,0], crv[:,1], 'k')\n",
    "    return area\n"
   ]
  },
  {
   "cell_type": "code",
   "execution_count": 20,
   "metadata": {},
   "outputs": [
    {
     "name": "stdout",
     "output_type": "stream",
     "text": [
      "[397.]\n",
      "[365.01332778]\n",
      "[334.35943357]\n",
      "[305.03831737]\n",
      "[277.04997918]\n",
      "[250.39441899]\n",
      "[225.07163682]\n",
      "[201.08163265]\n",
      "[178.4244065]\n",
      "[157.09995835]\n",
      "[137.10828821]\n",
      "[118.44939608]\n",
      "[101.12328197]\n",
      "[85.12994586]\n",
      "[70.46938776]\n",
      "[57.14160766]\n",
      "[45.14660558]\n",
      "[34.48438151]\n",
      "[25.15493544]\n",
      "[17.15826739]\n",
      "[10.49437734]\n",
      "[5.16326531]\n",
      "[1.16493128]\n",
      "[-1.50062474]\n",
      "[-2.83340275]\n",
      "[-2.83340275]\n",
      "[-1.50062474]\n",
      "[1.16493128]\n",
      "[5.16326531]\n",
      "[10.49437734]\n",
      "[17.15826739]\n",
      "[25.15493544]\n",
      "[34.48438151]\n",
      "[45.14660558]\n",
      "[57.14160766]\n",
      "[70.46938776]\n",
      "[85.12994586]\n",
      "[101.12328197]\n",
      "[118.44939608]\n",
      "[137.10828821]\n",
      "[157.09995835]\n",
      "[178.4244065]\n",
      "[201.08163265]\n",
      "[225.07163682]\n",
      "[250.39441899]\n",
      "[277.04997918]\n",
      "[305.03831737]\n",
      "[334.35943357]\n",
      "[365.01332778]\n",
      "[397.]\n"
     ]
    }
   ],
   "source": [
    "quad = make_hyperboloid(np.array([0,0]),0,1)\n",
    "Z = np.linspace(-20,20)\n",
    "for z in Z:\n",
    "    print(quad(np.array([-1,-1,z])))"
   ]
  },
  {
   "cell_type": "code",
   "execution_count": 33,
   "metadata": {},
   "outputs": [
    {
     "name": "stdout",
     "output_type": "stream",
     "text": [
      "found no point above\n",
      "found no point above\n",
      "found no point above\n",
      "found no point above\n",
      "found no point above\n",
      "found no point above\n",
      "found no point above\n",
      "found no point above\n",
      "found no point above\n",
      "found no point above\n",
      "found no point above\n",
      "found no point above\n"
     ]
    },
    {
     "data": {
      "text/plain": [
       "3.9998644771299636"
      ]
     },
     "execution_count": 33,
     "metadata": {},
     "output_type": "execute_result"
    },
    {
     "data": {
      "image/png": "[encoded data removed]",
      "text/plain": [
       "<Figure size 432x288 with 1 Axes>"
      ]
     },
     "metadata": {
      "needs_background": "light"
     },
     "output_type": "display_data"
    },
    {
     "data": {
      "image/png": "[encoded data removed]",
      "text/plain": [
       "<Figure size 432x288 with 1 Axes>"
      ]
     },
     "metadata": {
      "needs_background": "light"
     },
     "output_type": "display_data"
    }
   ],
   "source": [
    "N = 1000\n",
    "Y = 2*(np.random.rand(N,2)-.5)\n",
    "psi = 0*np.ones(N)  + 0.001*np.random.rand(N)\n",
    "beta = 1\n",
    "curves = make_laguerre(Y, psi, beta)\n",
    "\n",
    "plt.figure()\n",
    "plot_laguerre(curves)\n",
    "\n",
    "\n",
    "psi += 0.1\n",
    "beta = 1\n",
    "curves = make_laguerre(Y, psi, beta)\n",
    "plt.figure()\n",
    "plot_laguerre(curves)"
   ]
  },
  {
   "cell_type": "code",
   "execution_count": 30,
   "metadata": {},
   "outputs": [
    {
     "name": "stdout",
     "output_type": "stream",
     "text": [
      "found no point above\n",
      "found no point above\n",
      "found no point above\n",
      "found no point above\n",
      "found no point above\n",
      "found no point above\n",
      "found no point above\n",
      "found no point above\n",
      "found no point above\n",
      "found no point above\n",
      "found no point above\n",
      "found no point above\n",
      "found no point above\n",
      "found no point above\n",
      "found no point above\n",
      "found no point above\n",
      "found no point above\n",
      "found no point above\n",
      "found no point above\n",
      "found no point above\n",
      "found no point above\n",
      "found no point above\n",
      "found no point above\n",
      "found no point above\n",
      "found no point above\n",
      "found no point above\n",
      "found no point above\n",
      "found no point above\n",
      "found no point above\n",
      "found no point above\n",
      "found no point above\n",
      "found no point above\n",
      "found no point above\n",
      "found no point above\n",
      "found no point above\n",
      "found no point above\n",
      "found no point above\n",
      "found no point above\n",
      "found no point above\n"
     ]
    },
    {
     "data": {
      "text/plain": [
       "1.4802983352111525"
      ]
     },
     "execution_count": 30,
     "metadata": {},
     "output_type": "execute_result"
    },
    {
     "data": {
      "image/png": "[encoded data removed]",
      "text/plain": [
       "<Figure size 432x288 with 1 Axes>"
      ]
     },
     "metadata": {
      "needs_background": "light"
     },
     "output_type": "display_data"
    }
   ],
   "source": [
    "beta = 1\n",
    "psi = np.sqrt(Y[:,0]**2 + Y[:,1]**2)\n",
    "curves = make_laguerre(Y, psi, beta)\n",
    "plt.figure()\n",
    "plot_laguerre(curves)"
   ]
  },
  {
   "cell_type": "code",
   "execution_count": null,
   "metadata": {},
   "outputs": [],
   "source": [
    "def area_of_cell(curves):\n",
    "    if curves is None:\n",
    "        return 0.0\n",
    "    area = 0.0\n",
    "    # compute area of cell i by integrating over the boundary\n",
    "    # j is the number of the adjacent cell (negative number if adjacency \n",
    "    # is with the boundary)\n",
    "    for j,curvesj in curves.items():\n",
    "        for crv in curvesj:\n",
    "            crv = np.array(crv)\n",
    "            for k in range(crv.shape[0]-1):\n",
    "                a = crv[k,0:2]\n",
    "                b = crv[k+1,0:2]\n",
    "                area += np.linalg.det(np.array([a,b]))/2\n",
    "    return area\n",
    "\n",
    "def areas_of_power_diagram_quadric_intersection(X,w,quad):\n",
    "    cells = pypower.power_diagram(X,w)\n",
    "    areas = [area_of_cell(intersect_cell_with_quadric(X,c,quad,20)) for c in cells]\n",
    "    return np.array(areas)\n",
    " \n",
    "N = 10\n",
    "quad = Quadric(np.diag([-1,-1,0]), np.array([0,0,1]), 1)\n",
    "X = np.random.rand(N,3)\n",
    "w = np.zeros(N)\n",
    "H = lambda w: areas_of_power_diagram_quadric_intersection(X,w,quad)\n",
    "H(w)"
   ]
  },
  {
   "cell_type": "code",
   "execution_count": null,
   "metadata": {},
   "outputs": [],
   "source": [
    "\n",
    "def enlarge(x):\n",
    "    z = np.zeros(len(x)+1)\n",
    "    z[1:] = x\n",
    "    return z\n",
    "x = opt.fsolve(lambda x: (H(enlarge(x)) - 4/N)[1:], np.zeros(N-1))\n",
    "w = enlarge(x)"
   ]
  },
  {
   "cell_type": "code",
   "execution_count": null,
   "metadata": {},
   "outputs": [],
   "source": [
    "# Oliker-Prussner\n",
    "N = 10\n",
    "X = np.random.rand(N,3)\n",
    "w = np.zeros(N)\n",
    "w[0] = 5\n",
    "delta = 0.35\n",
    "nu = 4*np.ones(N)/N\n",
    "\n",
    "def H(w):\n",
    "    return areas_of_power_diagram_quadric_intersection(X,w,quad)\n",
    "def Hi(w,i):\n",
    "    cells = pypower.power_diagram(X,w)\n",
    "    return area_of_cell(intersect_cell_with_quadric(X,cells[i],quad,20))\n",
    "def e(i):\n",
    "    x = np.zeros(N)\n",
    "    x[i] = 1\n",
    "    return x\n",
    "    \n",
    "while delta>0.01:\n",
    "    print(\"delta={}\".format(delta))\n",
    "    good = False\n",
    "    while not good:\n",
    "        good = True\n",
    "        t = np.zeros(N)\n",
    "        for i in range(1,N):\n",
    "            if Hi(w,i) >= nu[i] - delta:\n",
    "                continue\n",
    "            f = lambda s: Hi(w+s*e(i),i) - nu[i]\n",
    "            # cell i does not have enough mass: we need to increase w\n",
    "            t[i] = opt.root_scalar(f, bracket=[0,10]).root\n",
    "            good = False\n",
    "        print(np.linalg.norm(H(w) - 4/N))\n",
    "        w = w + t\n",
    "    delta /= 2"
   ]
  },
  {
   "cell_type": "code",
   "execution_count": null,
   "metadata": {},
   "outputs": [],
   "source": [
    "# check (visually) the computation of the intersection between a triangle and a quadric\n",
    "\n",
    "def trisample(A, B, C,N):\n",
    "    r1 = np.random.rand(N)\n",
    "    r2 = np.random.rand(N)\n",
    "    s1 = np.sqrt(r1)\n",
    "\n",
    "    X = np.zeros((N,3))\n",
    "    X[:,0] = A[0] * (1.0 - s1) + B[0] * (1.0 - r2) * s1 + C[0] * r2 * s1\n",
    "    X[:,1] = A[1] * (1.0 - s1) + B[1] * (1.0 - r2) * s1 + C[1] * r2 * s1\n",
    "    X[:,2] = A[2] * (1.0 - s1) + B[2] * (1.0 - r2) * s1 + C[2] * r2 * s1\n",
    "    return X\n",
    "\n",
    "\n",
    "def test_triangle():\n",
    "    above = np.array([0,0,2])\n",
    "    quad = make_quad(np.array([0,0]),0,1)\n",
    "    v = np.random.rand(3)\n",
    "    w = np.random.rand(3)\n",
    "    \n",
    "    X = trisample(above,v,w,1000)\n",
    "    s = np.array([quad(x) for x in X]).flatten()\n",
    "    plt.plot(X[s>0,0], X[s>0,1],'.r')\n",
    "    plt.plot(X[s<0,0], X[s<0,1],'.b')\n",
    "\n",
    "    curves = intersect_triangle_with_quadric(quad, v, w, above)\n",
    "    for c in curves:\n",
    "        plt.plot(c[:,0], c[:,1],'g', linewidth=4)\n",
    "        \n",
    "#test_triangle()"
   ]
  },
  {
   "cell_type": "code",
   "execution_count": null,
   "metadata": {},
   "outputs": [],
   "source": [
    "import matplotlib.pyplot as plt\n",
    "%matplotlib inline\n",
    "\n",
    "quad = make_quad(np.array([0,0]),0,.1)\n",
    "\n",
    "N= 5\n",
    "X = np.random.rand(N,3)\n",
    "w = np.zeros(N)\n",
    "cells = make_power(X,w)\n",
    "\n",
    "area = 0\n",
    "plt.figure(figsize=(10,10))\n",
    "for i in range(N):\n",
    "    curves = intersect_cell_with_quadric(X,cells[i],quad,30)\n",
    "    if curves is None:\n",
    "        print(\"empty cell {}\".format(i))\n",
    "        continue\n",
    "    for j,curvesj in curves.items():\n",
    "        for crv in curvesj:\n",
    "            crv = np.array(crv)\n",
    "            for i in range(crv.shape[0]-1):\n",
    "                a = crv[i,0:2]\n",
    "                b = crv[i+1,0:2]\n",
    "                area += np.linalg.det(np.array([a,b]))/2\n",
    "            plt.plot(crv[:,0], crv[:,1], 'k')\n",
    "print(area)"
   ]
  }
 ],
 "metadata": {
  "kernelspec": {
   "display_name": "Python 3",
   "language": "python",
   "name": "python3"
  },
  "language_info": {
   "codemirror_mode": {
    "name": "ipython",
    "version": 3
   },
   "file_extension": ".py",
   "mimetype": "text/x-python",
   "name": "python",
   "nbconvert_exporter": "python",
   "pygments_lexer": "ipython3",
   "version": "3.7.3"
  }
 },
 "nbformat": 4,
 "nbformat_minor": 2
}
